{
 "cells": [
  {
   "cell_type": "code",
   "execution_count": 1,
   "id": "f43f94c4",
   "metadata": {},
   "outputs": [],
   "source": [
    "import pandas as pd\n",
    "import lightgbmmt as lgb\n",
    "from sklearn.preprocessing import LabelEncoder\n",
    "import numpy as np"
   ]
  },
  {
   "cell_type": "markdown",
   "id": "98a8c825",
   "metadata": {},
   "source": [
    "这里使用的房屋售价预测数据，y1是销售价，y2是将平均房价>120的设置为1,<120的设置为0   \n",
    "所以，对于y1是回归任务，对于y2是分类任务"
   ]
  },
  {
   "cell_type": "code",
   "execution_count": 2,
   "id": "860fff77",
   "metadata": {},
   "outputs": [],
   "source": [
    "df=pd.read_csv(\"./data/train.csv\")"
   ]
  },
  {
   "cell_type": "code",
   "execution_count": 3,
   "id": "b3fb5866",
   "metadata": {},
   "outputs": [],
   "source": [
    "df[\"y1\"]=df[\"SalePrice\"]"
   ]
  },
  {
   "cell_type": "code",
   "execution_count": 4,
   "id": "5cdedb44",
   "metadata": {},
   "outputs": [],
   "source": [
    "df=df.drop(\"Id\",axis=1).drop(\"SalePrice\",axis=1)"
   ]
  },
  {
   "cell_type": "code",
   "execution_count": 5,
   "id": "e7ed5f18",
   "metadata": {},
   "outputs": [],
   "source": [
    "df=df.fillna(-1)"
   ]
  },
  {
   "cell_type": "code",
   "execution_count": 6,
   "id": "5061e22e",
   "metadata": {},
   "outputs": [],
   "source": [
    "cate_cols=[col for col in  df.columns if df[col].dtype=='object']"
   ]
  },
  {
   "cell_type": "code",
   "execution_count": 7,
   "id": "779af2e1",
   "metadata": {},
   "outputs": [],
   "source": [
    "for col in cate_cols:\n",
    "    df[col]=LabelEncoder().fit_transform(df[col].apply(lambda x:str(x)))"
   ]
  },
  {
   "cell_type": "code",
   "execution_count": 8,
   "id": "2518edec",
   "metadata": {},
   "outputs": [
    {
     "data": {
      "text/html": [
       "<div>\n",
       "<style scoped>\n",
       "    .dataframe tbody tr th:only-of-type {\n",
       "        vertical-align: middle;\n",
       "    }\n",
       "\n",
       "    .dataframe tbody tr th {\n",
       "        vertical-align: top;\n",
       "    }\n",
       "\n",
       "    .dataframe thead th {\n",
       "        text-align: right;\n",
       "    }\n",
       "</style>\n",
       "<table border=\"1\" class=\"dataframe\">\n",
       "  <thead>\n",
       "    <tr style=\"text-align: right;\">\n",
       "      <th></th>\n",
       "      <th>MSSubClass</th>\n",
       "      <th>MSZoning</th>\n",
       "      <th>LotFrontage</th>\n",
       "      <th>LotArea</th>\n",
       "      <th>Street</th>\n",
       "      <th>Alley</th>\n",
       "      <th>LotShape</th>\n",
       "      <th>LandContour</th>\n",
       "      <th>Utilities</th>\n",
       "      <th>LotConfig</th>\n",
       "      <th>...</th>\n",
       "      <th>PoolArea</th>\n",
       "      <th>PoolQC</th>\n",
       "      <th>Fence</th>\n",
       "      <th>MiscFeature</th>\n",
       "      <th>MiscVal</th>\n",
       "      <th>MoSold</th>\n",
       "      <th>YrSold</th>\n",
       "      <th>SaleType</th>\n",
       "      <th>SaleCondition</th>\n",
       "      <th>y1</th>\n",
       "    </tr>\n",
       "  </thead>\n",
       "  <tbody>\n",
       "    <tr>\n",
       "      <th>0</th>\n",
       "      <td>60</td>\n",
       "      <td>3</td>\n",
       "      <td>65.0</td>\n",
       "      <td>8450</td>\n",
       "      <td>1</td>\n",
       "      <td>0</td>\n",
       "      <td>3</td>\n",
       "      <td>3</td>\n",
       "      <td>0</td>\n",
       "      <td>4</td>\n",
       "      <td>...</td>\n",
       "      <td>0</td>\n",
       "      <td>0</td>\n",
       "      <td>0</td>\n",
       "      <td>0</td>\n",
       "      <td>0</td>\n",
       "      <td>2</td>\n",
       "      <td>2008</td>\n",
       "      <td>8</td>\n",
       "      <td>4</td>\n",
       "      <td>208500</td>\n",
       "    </tr>\n",
       "    <tr>\n",
       "      <th>1</th>\n",
       "      <td>20</td>\n",
       "      <td>3</td>\n",
       "      <td>80.0</td>\n",
       "      <td>9600</td>\n",
       "      <td>1</td>\n",
       "      <td>0</td>\n",
       "      <td>3</td>\n",
       "      <td>3</td>\n",
       "      <td>0</td>\n",
       "      <td>2</td>\n",
       "      <td>...</td>\n",
       "      <td>0</td>\n",
       "      <td>0</td>\n",
       "      <td>0</td>\n",
       "      <td>0</td>\n",
       "      <td>0</td>\n",
       "      <td>5</td>\n",
       "      <td>2007</td>\n",
       "      <td>8</td>\n",
       "      <td>4</td>\n",
       "      <td>181500</td>\n",
       "    </tr>\n",
       "    <tr>\n",
       "      <th>2</th>\n",
       "      <td>60</td>\n",
       "      <td>3</td>\n",
       "      <td>68.0</td>\n",
       "      <td>11250</td>\n",
       "      <td>1</td>\n",
       "      <td>0</td>\n",
       "      <td>0</td>\n",
       "      <td>3</td>\n",
       "      <td>0</td>\n",
       "      <td>4</td>\n",
       "      <td>...</td>\n",
       "      <td>0</td>\n",
       "      <td>0</td>\n",
       "      <td>0</td>\n",
       "      <td>0</td>\n",
       "      <td>0</td>\n",
       "      <td>9</td>\n",
       "      <td>2008</td>\n",
       "      <td>8</td>\n",
       "      <td>4</td>\n",
       "      <td>223500</td>\n",
       "    </tr>\n",
       "    <tr>\n",
       "      <th>3</th>\n",
       "      <td>70</td>\n",
       "      <td>3</td>\n",
       "      <td>60.0</td>\n",
       "      <td>9550</td>\n",
       "      <td>1</td>\n",
       "      <td>0</td>\n",
       "      <td>0</td>\n",
       "      <td>3</td>\n",
       "      <td>0</td>\n",
       "      <td>0</td>\n",
       "      <td>...</td>\n",
       "      <td>0</td>\n",
       "      <td>0</td>\n",
       "      <td>0</td>\n",
       "      <td>0</td>\n",
       "      <td>0</td>\n",
       "      <td>2</td>\n",
       "      <td>2006</td>\n",
       "      <td>8</td>\n",
       "      <td>0</td>\n",
       "      <td>140000</td>\n",
       "    </tr>\n",
       "    <tr>\n",
       "      <th>4</th>\n",
       "      <td>60</td>\n",
       "      <td>3</td>\n",
       "      <td>84.0</td>\n",
       "      <td>14260</td>\n",
       "      <td>1</td>\n",
       "      <td>0</td>\n",
       "      <td>0</td>\n",
       "      <td>3</td>\n",
       "      <td>0</td>\n",
       "      <td>2</td>\n",
       "      <td>...</td>\n",
       "      <td>0</td>\n",
       "      <td>0</td>\n",
       "      <td>0</td>\n",
       "      <td>0</td>\n",
       "      <td>0</td>\n",
       "      <td>12</td>\n",
       "      <td>2008</td>\n",
       "      <td>8</td>\n",
       "      <td>4</td>\n",
       "      <td>250000</td>\n",
       "    </tr>\n",
       "  </tbody>\n",
       "</table>\n",
       "<p>5 rows × 80 columns</p>\n",
       "</div>"
      ],
      "text/plain": [
       "   MSSubClass  MSZoning  LotFrontage  LotArea  Street  Alley  LotShape  \\\n",
       "0          60         3         65.0     8450       1      0         3   \n",
       "1          20         3         80.0     9600       1      0         3   \n",
       "2          60         3         68.0    11250       1      0         0   \n",
       "3          70         3         60.0     9550       1      0         0   \n",
       "4          60         3         84.0    14260       1      0         0   \n",
       "\n",
       "   LandContour  Utilities  LotConfig  ...  PoolArea  PoolQC  Fence  \\\n",
       "0            3          0          4  ...         0       0      0   \n",
       "1            3          0          2  ...         0       0      0   \n",
       "2            3          0          4  ...         0       0      0   \n",
       "3            3          0          0  ...         0       0      0   \n",
       "4            3          0          2  ...         0       0      0   \n",
       "\n",
       "   MiscFeature  MiscVal  MoSold  YrSold  SaleType  SaleCondition      y1  \n",
       "0            0        0       2    2008         8              4  208500  \n",
       "1            0        0       5    2007         8              4  181500  \n",
       "2            0        0       9    2008         8              4  223500  \n",
       "3            0        0       2    2006         8              0  140000  \n",
       "4            0        0      12    2008         8              4  250000  \n",
       "\n",
       "[5 rows x 80 columns]"
      ]
     },
     "execution_count": 8,
     "metadata": {},
     "output_type": "execute_result"
    }
   ],
   "source": [
    "df.head(5)"
   ]
  },
  {
   "cell_type": "code",
   "execution_count": 9,
   "id": "36bbdb60",
   "metadata": {},
   "outputs": [],
   "source": [
    "trn_df=df[:1200]\n",
    "val_df=df[1200:]"
   ]
  },
  {
   "cell_type": "code",
   "execution_count": 10,
   "id": "51704b21",
   "metadata": {},
   "outputs": [],
   "source": [
    "trn_y=trn_df[[\"y1\"]]\n",
    "val_y=val_df[[\"y1\"]]"
   ]
  },
  {
   "cell_type": "code",
   "execution_count": 11,
   "id": "550b1e28",
   "metadata": {},
   "outputs": [],
   "source": [
    "trn_x=trn_df.drop([\"y1\"],axis=1)\n",
    "val_x=val_df.drop([\"y1\"],axis=1)"
   ]
  },
  {
   "cell_type": "code",
   "execution_count": 12,
   "id": "f4c89c3d",
   "metadata": {},
   "outputs": [],
   "source": [
    "def jc(y,pred):\n",
    "    df=pd.DataFrame({\"y\":y,\"pred\":pred})\n",
    "    df=df.sort_values(\"pred\")\n",
    "    num=len(df)//10\n",
    "    return df[-num:][\"y\"].mean()/df[0:num][\"y\"].mean()"
   ]
  },
  {
   "cell_type": "markdown",
   "id": "8162f6bf",
   "metadata": {},
   "source": [
    "base:只训练y1"
   ]
  },
  {
   "cell_type": "code",
   "execution_count": 13,
   "id": "6b60431f",
   "metadata": {},
   "outputs": [],
   "source": [
    "param = {\n",
    "    'num_leaves':48, \n",
    "    'objective':'regression',\n",
    "    'max_depth':6,\n",
    "    'learning_rate':.03,\n",
    "    'max_bin':200,\n",
    "    'lambda_l1':0.1,\n",
    "    'lambda_l2':0.2,\n",
    "    'verboses':10,\n",
    "    'metrics':\"rmse\",\n",
    "    'num_threads':4,\n",
    "    'tree_learner': 'serial2'}"
   ]
  },
  {
   "cell_type": "code",
   "execution_count": 14,
   "id": "bee3a82d",
   "metadata": {},
   "outputs": [
    {
     "name": "stderr",
     "output_type": "stream",
     "text": [
      "/home/alei/anaconda3/lib/python3.8/site-packages/lightgbmmt/basic.py:1297: UserWarning: Using categorical_feature in Dataset.\n",
      "  warnings.warn('Using categorical_feature in Dataset.')\n"
     ]
    },
    {
     "name": "stdout",
     "output_type": "stream",
     "text": [
      "[10]\ttraining's rmse: 63630.2\tvalid_1's rmse: 56465.5\n",
      "[20]\ttraining's rmse: 51283.4\tvalid_1's rmse: 46026.9\n",
      "[30]\ttraining's rmse: 42493\tvalid_1's rmse: 38870.1\n",
      "[40]\ttraining's rmse: 35905.8\tvalid_1's rmse: 34372.3\n",
      "[50]\ttraining's rmse: 30888.4\tvalid_1's rmse: 31729.8\n",
      "[60]\ttraining's rmse: 27349.1\tvalid_1's rmse: 30066.1\n",
      "[70]\ttraining's rmse: 24871.5\tvalid_1's rmse: 29238.2\n",
      "[80]\ttraining's rmse: 23151.4\tvalid_1's rmse: 28894.8\n",
      "[90]\ttraining's rmse: 21930.2\tvalid_1's rmse: 28863.1\n",
      "[100]\ttraining's rmse: 20991.3\tvalid_1's rmse: 28699.6\n",
      "[110]\ttraining's rmse: 20212.4\tvalid_1's rmse: 28697.9\n",
      "[120]\ttraining's rmse: 19654.5\tvalid_1's rmse: 28774.3\n",
      "[130]\ttraining's rmse: 19130.8\tvalid_1's rmse: 28726.7\n",
      "[140]\ttraining's rmse: 18740.7\tvalid_1's rmse: 28723.6\n",
      "[150]\ttraining's rmse: 18220.1\tvalid_1's rmse: 28799.7\n",
      "[160]\ttraining's rmse: 17830.8\tvalid_1's rmse: 28811.9\n",
      "[170]\ttraining's rmse: 17498.7\tvalid_1's rmse: 28881.8\n",
      "[180]\ttraining's rmse: 17140.7\tvalid_1's rmse: 28926.5\n",
      "[190]\ttraining's rmse: 16819.1\tvalid_1's rmse: 28958.2\n",
      "[200]\ttraining's rmse: 16553.5\tvalid_1's rmse: 28989\n"
     ]
    }
   ],
   "source": [
    "trn_data=lgb.Dataset(trn_x,label=trn_y[\"y1\"],categorical_feature=cate_cols)\n",
    "val_data=lgb.Dataset(val_x,label=val_y[\"y1\"],categorical_feature=cate_cols)\n",
    "clf=lgb.train(param,trn_data,verbose_eval=10,\n",
    "                num_boost_round=200,valid_sets=[trn_data,val_data])\n",
    "clf.set_num_labels(1)"
   ]
  },
  {
   "cell_type": "code",
   "execution_count": 15,
   "id": "9f7d552a",
   "metadata": {},
   "outputs": [
    {
     "name": "stdout",
     "output_type": "stream",
     "text": [
      "inner_predict 260\n"
     ]
    },
    {
     "data": {
      "text/plain": [
       "3.487262909917235"
      ]
     },
     "execution_count": 15,
     "metadata": {},
     "output_type": "execute_result"
    }
   ],
   "source": [
    "jc(val_y[\"y1\"],clf.predict(val_x))"
   ]
  },
  {
   "cell_type": "markdown",
   "id": "1e2324fe",
   "metadata": {},
   "source": [
    "根据极差定义，模型应该更加关注头部和尾部的数据，所以需要对这两部分书施加更大的处罚(损失函数对应更大的权重)，这里使用如下公式去调整权重：   \n",
    "$$weight(y)=exp(\\frac{|y-y_m|}{y_m})$$  \n",
    "这里的$y_m$表示中位数/均值，头部和尾部数据原理中位数/均值越远，所以其权重会越大。"
   ]
  },
  {
   "cell_type": "code",
   "execution_count": 26,
   "id": "10f29097",
   "metadata": {},
   "outputs": [
    {
     "data": {
      "text/plain": [
       "181414.62833333333"
      ]
     },
     "execution_count": 26,
     "metadata": {},
     "output_type": "execute_result"
    }
   ],
   "source": [
    "ym=np.mean(trn_y[\"y1\"])\n",
    "ym"
   ]
  },
  {
   "cell_type": "code",
   "execution_count": 27,
   "id": "ee854d97",
   "metadata": {},
   "outputs": [],
   "source": [
    "param = {\n",
    "    'num_leaves':48, \n",
    "    'max_depth':6,\n",
    "    'learning_rate':.03,\n",
    "    'max_bin':200,\n",
    "    'lambda_l1':0.1,\n",
    "    'lambda_l2':0.2,\n",
    "    'verbose': 5,\n",
    "    'objective':'custom',           \n",
    "    'tree_learner': 'serial2',\n",
    "    'num_threads':4}  "
   ]
  },
  {
   "cell_type": "code",
   "execution_count": 28,
   "id": "dcd5f024",
   "metadata": {},
   "outputs": [],
   "source": [
    "num_labels=1\n",
    "def object_func(preds, train_data, ep = 0):\n",
    "    labels = train_data.get_label()\n",
    "    labels2 = labels.reshape((num_labels,-1)).transpose().reshape(-1)  \n",
    "    preds2 = preds.reshape((num_labels,-1)).transpose().reshape(-1)\n",
    "    \n",
    "    #regression\n",
    "    grad_regress=(preds2-labels2)*np.exp(np.abs(labels2-ym)/ym)\n",
    "    hess_regress=grad_regress*0+1*np.exp(np.abs(labels2-ym)/ym)\n",
    "    \n",
    "    return grad_regress, hess_regress\n",
    "\n",
    "def eval_func(preds, train_data):\n",
    "    labels = train_data.get_label()\n",
    "    labels2 = labels.reshape((num_labels,-1)).transpose().reshape(-1)\n",
    "    preds2 = preds.reshape((num_labels,-1)).transpose().reshape(-1)\n",
    "    #regression score\n",
    "    regress_score = np.mean((labels2-preds2) ** 2)**0.5\n",
    "    total_score=regress_score\n",
    "    return 'score', total_score, False"
   ]
  },
  {
   "cell_type": "code",
   "execution_count": 29,
   "id": "897a0b7a",
   "metadata": {},
   "outputs": [
    {
     "name": "stdout",
     "output_type": "stream",
     "text": [
      "[10]\ttraining's score: 146335\tvalid_1's score: 142221\n",
      "[20]\ttraining's score: 108070\tvalid_1's score: 105262\n",
      "[30]\ttraining's score: 80285.8\tvalid_1's score: 78504.4\n",
      "[40]\ttraining's score: 60352\tvalid_1's score: 60114.4\n",
      "[50]\ttraining's score: 46350.5\tvalid_1's score: 47992.7\n",
      "[60]\ttraining's score: 36907.9\tvalid_1's score: 40907.7\n",
      "[70]\ttraining's score: 30854.7\tvalid_1's score: 37360.9\n",
      "[80]\ttraining's score: 27181.7\tvalid_1's score: 35838.2\n",
      "[90]\ttraining's score: 25087.8\tvalid_1's score: 35524.9\n",
      "[100]\ttraining's score: 23810.5\tvalid_1's score: 35592.8\n",
      "[110]\ttraining's score: 22948.1\tvalid_1's score: 35949.9\n",
      "[120]\ttraining's score: 22181.8\tvalid_1's score: 36293.1\n",
      "[130]\ttraining's score: 21603.6\tvalid_1's score: 36442.9\n",
      "[140]\ttraining's score: 20917.9\tvalid_1's score: 36319\n",
      "[150]\ttraining's score: 20414.2\tvalid_1's score: 36380.7\n",
      "[160]\ttraining's score: 19971.5\tvalid_1's score: 36416.7\n",
      "[170]\ttraining's score: 19524.7\tvalid_1's score: 36413.4\n",
      "[180]\ttraining's score: 19183.5\tvalid_1's score: 36454.4\n",
      "[190]\ttraining's score: 18833.6\tvalid_1's score: 36512.7\n",
      "[200]\ttraining's score: 18437.5\tvalid_1's score: 36345.4\n"
     ]
    }
   ],
   "source": [
    "trn_data=lgb.Dataset(trn_x,label=trn_y.values.reshape(-1),categorical_feature=cate_cols)\n",
    "val_data=lgb.Dataset(val_x,label=val_y.values.reshape(-1),categorical_feature=cate_cols)\n",
    "clf=lgb.train(param,trn_data,verbose_eval=10,fobj=object_func,feval=eval_func,\n",
    "                num_boost_round=200,valid_sets=[trn_data,val_data])\n",
    "clf.set_num_labels(1)"
   ]
  },
  {
   "cell_type": "code",
   "execution_count": 30,
   "id": "81e48a80",
   "metadata": {},
   "outputs": [
    {
     "name": "stdout",
     "output_type": "stream",
     "text": [
      "inner_predict 260\n"
     ]
    },
    {
     "data": {
      "text/plain": [
       "3.503316336087581"
      ]
     },
     "execution_count": 30,
     "metadata": {},
     "output_type": "execute_result"
    }
   ],
   "source": [
    "jc(val_y[\"y1\"],clf.predict(val_x))"
   ]
  },
  {
   "cell_type": "code",
   "execution_count": null,
   "id": "e4d48134",
   "metadata": {},
   "outputs": [],
   "source": []
  }
 ],
 "metadata": {
  "kernelspec": {
   "display_name": "Python 3",
   "language": "python",
   "name": "python3"
  },
  "language_info": {
   "codemirror_mode": {
    "name": "ipython",
    "version": 3
   },
   "file_extension": ".py",
   "mimetype": "text/x-python",
   "name": "python",
   "nbconvert_exporter": "python",
   "pygments_lexer": "ipython3",
   "version": "3.8.8"
  }
 },
 "nbformat": 4,
 "nbformat_minor": 5
}

{
 "cells": [
  {
   "cell_type": "code",
   "execution_count": 1,
   "id": "5880f560",
   "metadata": {},
   "outputs": [],
   "source": [
    "import pandas as pd\n",
    "import lightgbmmt as lgb\n",
    "from sklearn.preprocessing import LabelEncoder\n",
    "import numpy as np\n",
    "from sklearn.metrics import roc_auc_score"
   ]
  },
  {
   "cell_type": "markdown",
   "id": "6a06b47d",
   "metadata": {},
   "source": [
    "这里使用的房屋售价预测数据，y1是销售价，y2是将平均房价>120的设置为1,<120的设置为0   \n",
    "所以，对于y1是回归任务，对于y2是分类任务"
   ]
  },
  {
   "cell_type": "code",
   "execution_count": 2,
   "id": "5e992551",
   "metadata": {},
   "outputs": [],
   "source": [
    "df=pd.read_csv(\"./data/train.csv\")"
   ]
  },
  {
   "cell_type": "code",
   "execution_count": 3,
   "id": "2207e722",
   "metadata": {},
   "outputs": [],
   "source": [
    "df[\"y1\"]=df[\"SalePrice\"]\n",
    "df[\"y2\"]=(df[\"y1\"]/df[\"GrLivArea\"]).apply(lambda x:1 if x>120 else 0)"
   ]
  },
  {
   "cell_type": "code",
   "execution_count": 4,
   "id": "e5566f7f",
   "metadata": {},
   "outputs": [],
   "source": [
    "df=df.drop(\"Id\",axis=1).drop(\"SalePrice\",axis=1)"
   ]
  },
  {
   "cell_type": "code",
   "execution_count": 5,
   "id": "1af98114",
   "metadata": {},
   "outputs": [],
   "source": [
    "df=df.fillna(-1)"
   ]
  },
  {
   "cell_type": "code",
   "execution_count": 6,
   "id": "03414e3f",
   "metadata": {},
   "outputs": [],
   "source": [
    "cate_cols=[col for col in  df.columns if df[col].dtype=='object']"
   ]
  },
  {
   "cell_type": "code",
   "execution_count": 7,
   "id": "93327ef8",
   "metadata": {},
   "outputs": [],
   "source": [
    "for col in cate_cols:\n",
    "    df[col]=LabelEncoder().fit_transform(df[col].apply(lambda x:str(x)))"
   ]
  },
  {
   "cell_type": "code",
   "execution_count": 8,
   "id": "f6ce4e94",
   "metadata": {},
   "outputs": [
    {
     "data": {
      "text/html": [
       "<div>\n",
       "<style scoped>\n",
       "    .dataframe tbody tr th:only-of-type {\n",
       "        vertical-align: middle;\n",
       "    }\n",
       "\n",
       "    .dataframe tbody tr th {\n",
       "        vertical-align: top;\n",
       "    }\n",
       "\n",
       "    .dataframe thead th {\n",
       "        text-align: right;\n",
       "    }\n",
       "</style>\n",
       "<table border=\"1\" class=\"dataframe\">\n",
       "  <thead>\n",
       "    <tr style=\"text-align: right;\">\n",
       "      <th></th>\n",
       "      <th>MSSubClass</th>\n",
       "      <th>MSZoning</th>\n",
       "      <th>LotFrontage</th>\n",
       "      <th>LotArea</th>\n",
       "      <th>Street</th>\n",
       "      <th>Alley</th>\n",
       "      <th>LotShape</th>\n",
       "      <th>LandContour</th>\n",
       "      <th>Utilities</th>\n",
       "      <th>LotConfig</th>\n",
       "      <th>...</th>\n",
       "      <th>PoolQC</th>\n",
       "      <th>Fence</th>\n",
       "      <th>MiscFeature</th>\n",
       "      <th>MiscVal</th>\n",
       "      <th>MoSold</th>\n",
       "      <th>YrSold</th>\n",
       "      <th>SaleType</th>\n",
       "      <th>SaleCondition</th>\n",
       "      <th>y1</th>\n",
       "      <th>y2</th>\n",
       "    </tr>\n",
       "  </thead>\n",
       "  <tbody>\n",
       "    <tr>\n",
       "      <th>0</th>\n",
       "      <td>60</td>\n",
       "      <td>3</td>\n",
       "      <td>65.0</td>\n",
       "      <td>8450</td>\n",
       "      <td>1</td>\n",
       "      <td>0</td>\n",
       "      <td>3</td>\n",
       "      <td>3</td>\n",
       "      <td>0</td>\n",
       "      <td>4</td>\n",
       "      <td>...</td>\n",
       "      <td>0</td>\n",
       "      <td>0</td>\n",
       "      <td>0</td>\n",
       "      <td>0</td>\n",
       "      <td>2</td>\n",
       "      <td>2008</td>\n",
       "      <td>8</td>\n",
       "      <td>4</td>\n",
       "      <td>208500</td>\n",
       "      <td>1</td>\n",
       "    </tr>\n",
       "    <tr>\n",
       "      <th>1</th>\n",
       "      <td>20</td>\n",
       "      <td>3</td>\n",
       "      <td>80.0</td>\n",
       "      <td>9600</td>\n",
       "      <td>1</td>\n",
       "      <td>0</td>\n",
       "      <td>3</td>\n",
       "      <td>3</td>\n",
       "      <td>0</td>\n",
       "      <td>2</td>\n",
       "      <td>...</td>\n",
       "      <td>0</td>\n",
       "      <td>0</td>\n",
       "      <td>0</td>\n",
       "      <td>0</td>\n",
       "      <td>5</td>\n",
       "      <td>2007</td>\n",
       "      <td>8</td>\n",
       "      <td>4</td>\n",
       "      <td>181500</td>\n",
       "      <td>1</td>\n",
       "    </tr>\n",
       "    <tr>\n",
       "      <th>2</th>\n",
       "      <td>60</td>\n",
       "      <td>3</td>\n",
       "      <td>68.0</td>\n",
       "      <td>11250</td>\n",
       "      <td>1</td>\n",
       "      <td>0</td>\n",
       "      <td>0</td>\n",
       "      <td>3</td>\n",
       "      <td>0</td>\n",
       "      <td>4</td>\n",
       "      <td>...</td>\n",
       "      <td>0</td>\n",
       "      <td>0</td>\n",
       "      <td>0</td>\n",
       "      <td>0</td>\n",
       "      <td>9</td>\n",
       "      <td>2008</td>\n",
       "      <td>8</td>\n",
       "      <td>4</td>\n",
       "      <td>223500</td>\n",
       "      <td>1</td>\n",
       "    </tr>\n",
       "    <tr>\n",
       "      <th>3</th>\n",
       "      <td>70</td>\n",
       "      <td>3</td>\n",
       "      <td>60.0</td>\n",
       "      <td>9550</td>\n",
       "      <td>1</td>\n",
       "      <td>0</td>\n",
       "      <td>0</td>\n",
       "      <td>3</td>\n",
       "      <td>0</td>\n",
       "      <td>0</td>\n",
       "      <td>...</td>\n",
       "      <td>0</td>\n",
       "      <td>0</td>\n",
       "      <td>0</td>\n",
       "      <td>0</td>\n",
       "      <td>2</td>\n",
       "      <td>2006</td>\n",
       "      <td>8</td>\n",
       "      <td>0</td>\n",
       "      <td>140000</td>\n",
       "      <td>0</td>\n",
       "    </tr>\n",
       "    <tr>\n",
       "      <th>4</th>\n",
       "      <td>60</td>\n",
       "      <td>3</td>\n",
       "      <td>84.0</td>\n",
       "      <td>14260</td>\n",
       "      <td>1</td>\n",
       "      <td>0</td>\n",
       "      <td>0</td>\n",
       "      <td>3</td>\n",
       "      <td>0</td>\n",
       "      <td>2</td>\n",
       "      <td>...</td>\n",
       "      <td>0</td>\n",
       "      <td>0</td>\n",
       "      <td>0</td>\n",
       "      <td>0</td>\n",
       "      <td>12</td>\n",
       "      <td>2008</td>\n",
       "      <td>8</td>\n",
       "      <td>4</td>\n",
       "      <td>250000</td>\n",
       "      <td>0</td>\n",
       "    </tr>\n",
       "  </tbody>\n",
       "</table>\n",
       "<p>5 rows × 81 columns</p>\n",
       "</div>"
      ],
      "text/plain": [
       "   MSSubClass  MSZoning  LotFrontage  LotArea  Street  Alley  LotShape  \\\n",
       "0          60         3         65.0     8450       1      0         3   \n",
       "1          20         3         80.0     9600       1      0         3   \n",
       "2          60         3         68.0    11250       1      0         0   \n",
       "3          70         3         60.0     9550       1      0         0   \n",
       "4          60         3         84.0    14260       1      0         0   \n",
       "\n",
       "   LandContour  Utilities  LotConfig  ...  PoolQC  Fence  MiscFeature  \\\n",
       "0            3          0          4  ...       0      0            0   \n",
       "1            3          0          2  ...       0      0            0   \n",
       "2            3          0          4  ...       0      0            0   \n",
       "3            3          0          0  ...       0      0            0   \n",
       "4            3          0          2  ...       0      0            0   \n",
       "\n",
       "   MiscVal  MoSold  YrSold  SaleType  SaleCondition      y1  y2  \n",
       "0        0       2    2008         8              4  208500   1  \n",
       "1        0       5    2007         8              4  181500   1  \n",
       "2        0       9    2008         8              4  223500   1  \n",
       "3        0       2    2006         8              0  140000   0  \n",
       "4        0      12    2008         8              4  250000   0  \n",
       "\n",
       "[5 rows x 81 columns]"
      ]
     },
     "execution_count": 8,
     "metadata": {},
     "output_type": "execute_result"
    }
   ],
   "source": [
    "df.head(5)"
   ]
  },
  {
   "cell_type": "code",
   "execution_count": 9,
   "id": "e45630a0",
   "metadata": {},
   "outputs": [],
   "source": [
    "trn_df=df[:1200]\n",
    "val_df=df[1200:]"
   ]
  },
  {
   "cell_type": "code",
   "execution_count": 10,
   "id": "861f9b87",
   "metadata": {},
   "outputs": [
    {
     "data": {
      "text/plain": [
       "((1200, 81), (260, 81))"
      ]
     },
     "execution_count": 10,
     "metadata": {},
     "output_type": "execute_result"
    }
   ],
   "source": [
    "trn_df.shape,val_df.shape"
   ]
  },
  {
   "cell_type": "code",
   "execution_count": 11,
   "id": "7d53af0f",
   "metadata": {},
   "outputs": [],
   "source": [
    "trn_y=trn_df[[\"y1\",\"y2\"]]\n",
    "val_y=val_df[[\"y1\",\"y2\"]]"
   ]
  },
  {
   "cell_type": "code",
   "execution_count": 12,
   "id": "b3ebbd34",
   "metadata": {},
   "outputs": [],
   "source": [
    "trn_x=trn_df.drop([\"y1\",\"y2\"],axis=1)\n",
    "val_x=val_df.drop([\"y1\",\"y2\"],axis=1)"
   ]
  },
  {
   "cell_type": "code",
   "execution_count": 13,
   "id": "f05253ed",
   "metadata": {},
   "outputs": [],
   "source": [
    "def rmse(y,pred):\n",
    "    return np.sqrt(np.sum(np.abs(y-pred)))"
   ]
  },
  {
   "cell_type": "markdown",
   "id": "b5ddecea",
   "metadata": {},
   "source": [
    "只训练y1"
   ]
  },
  {
   "cell_type": "code",
   "execution_count": 14,
   "id": "426905ed",
   "metadata": {},
   "outputs": [],
   "source": [
    "param = {\n",
    "    'num_leaves':48, \n",
    "    'objective':'regression',\n",
    "    'max_depth':6,\n",
    "    'learning_rate':.03,\n",
    "    'max_bin':200,\n",
    "    'lambda_l1':0.1,\n",
    "    'lambda_l2':0.2,\n",
    "    'verboses':10,\n",
    "    'metrics':\"rmse\",\n",
    "    'num_threads':4,\n",
    "    'tree_learner': 'serial2'}"
   ]
  },
  {
   "cell_type": "code",
   "execution_count": 15,
   "id": "f5115160",
   "metadata": {},
   "outputs": [
    {
     "name": "stderr",
     "output_type": "stream",
     "text": [
      "/home/alei/anaconda3/lib/python3.8/site-packages/lightgbmmt/basic.py:1297: UserWarning: Using categorical_feature in Dataset.\n",
      "  warnings.warn('Using categorical_feature in Dataset.')\n"
     ]
    },
    {
     "name": "stdout",
     "output_type": "stream",
     "text": [
      "[10]\ttraining's rmse: 63630.2\tvalid_1's rmse: 56465.5\n",
      "[20]\ttraining's rmse: 51283.4\tvalid_1's rmse: 46026.9\n",
      "[30]\ttraining's rmse: 42493\tvalid_1's rmse: 38870.1\n",
      "[40]\ttraining's rmse: 35905.8\tvalid_1's rmse: 34372.3\n",
      "[50]\ttraining's rmse: 30888.4\tvalid_1's rmse: 31729.8\n",
      "[60]\ttraining's rmse: 27349.1\tvalid_1's rmse: 30066.1\n",
      "[70]\ttraining's rmse: 24871.5\tvalid_1's rmse: 29238.2\n",
      "[80]\ttraining's rmse: 23151.4\tvalid_1's rmse: 28894.8\n",
      "[90]\ttraining's rmse: 21930.2\tvalid_1's rmse: 28863.1\n",
      "[100]\ttraining's rmse: 20991.3\tvalid_1's rmse: 28699.6\n",
      "[110]\ttraining's rmse: 20212.4\tvalid_1's rmse: 28697.9\n",
      "[120]\ttraining's rmse: 19654.5\tvalid_1's rmse: 28774.3\n",
      "[130]\ttraining's rmse: 19130.8\tvalid_1's rmse: 28726.7\n",
      "[140]\ttraining's rmse: 18740.7\tvalid_1's rmse: 28723.6\n",
      "[150]\ttraining's rmse: 18220.1\tvalid_1's rmse: 28799.7\n",
      "[160]\ttraining's rmse: 17830.8\tvalid_1's rmse: 28811.9\n",
      "[170]\ttraining's rmse: 17498.7\tvalid_1's rmse: 28881.8\n",
      "[180]\ttraining's rmse: 17140.7\tvalid_1's rmse: 28926.5\n",
      "[190]\ttraining's rmse: 16819.1\tvalid_1's rmse: 28958.2\n",
      "[200]\ttraining's rmse: 16553.5\tvalid_1's rmse: 28989\n"
     ]
    }
   ],
   "source": [
    "trn_data=lgb.Dataset(trn_x,label=trn_y[\"y1\"],categorical_feature=cate_cols)\n",
    "val_data=lgb.Dataset(val_x,label=val_y[\"y1\"],categorical_feature=cate_cols)\n",
    "clf=lgb.train(param,trn_data,verbose_eval=10,\n",
    "                num_boost_round=200,valid_sets=[trn_data,val_data])\n",
    "clf.set_num_labels(1)"
   ]
  },
  {
   "cell_type": "code",
   "execution_count": 16,
   "id": "6b30d1ff",
   "metadata": {},
   "outputs": [
    {
     "name": "stdout",
     "output_type": "stream",
     "text": [
      "inner_predict 260\n"
     ]
    },
    {
     "data": {
      "text/plain": [
       "2042.9441797076763"
      ]
     },
     "execution_count": 16,
     "metadata": {},
     "output_type": "execute_result"
    }
   ],
   "source": [
    "rmse(clf.predict(val_x),val_y[\"y1\"])"
   ]
  },
  {
   "cell_type": "markdown",
   "id": "ab814870",
   "metadata": {},
   "source": [
    "只训练y2"
   ]
  },
  {
   "cell_type": "code",
   "execution_count": 17,
   "id": "cf628323",
   "metadata": {},
   "outputs": [],
   "source": [
    "param = {\n",
    "    'num_leaves':48, \n",
    "    'objective':'binary',\n",
    "    'max_depth':6,\n",
    "    'learning_rate':.03,\n",
    "    'max_bin':200,\n",
    "    'lambda_l1':0.1,\n",
    "    'lambda_l2':0.2,\n",
    "    'verboses':10,\n",
    "    'metrics':\"precision\",\n",
    "    'num_threads':4,\n",
    "    'tree_learner': 'serial2'}"
   ]
  },
  {
   "cell_type": "code",
   "execution_count": 18,
   "id": "f15ecdaf",
   "metadata": {},
   "outputs": [],
   "source": [
    "trn_data=lgb.Dataset(trn_x,label=trn_y[\"y2\"],categorical_feature=cate_cols)\n",
    "val_data=lgb.Dataset(val_x,label=val_y[\"y2\"],categorical_feature=cate_cols)\n",
    "clf=lgb.train(param,trn_data,verbose_eval=10,\n",
    "                num_boost_round=200,valid_sets=[trn_data,val_data])\n",
    "clf.set_num_labels(1)"
   ]
  },
  {
   "cell_type": "code",
   "execution_count": 19,
   "id": "bbccc5b9",
   "metadata": {},
   "outputs": [
    {
     "name": "stdout",
     "output_type": "stream",
     "text": [
      "inner_predict 260\n"
     ]
    },
    {
     "data": {
      "text/plain": [
       "0.9437337123904288"
      ]
     },
     "execution_count": 19,
     "metadata": {},
     "output_type": "execute_result"
    }
   ],
   "source": [
    "roc_auc_score(val_y[\"y2\"],clf.predict(val_x))"
   ]
  },
  {
   "cell_type": "markdown",
   "id": "c7d33514",
   "metadata": {},
   "source": [
    "同时训练y1,y2"
   ]
  },
  {
   "cell_type": "code",
   "execution_count": 20,
   "id": "c0eb7e78",
   "metadata": {},
   "outputs": [],
   "source": [
    "num_labels=2\n",
    "param = {\n",
    "    'num_leaves':48, \n",
    "    'max_depth':6,\n",
    "    'learning_rate':.03,\n",
    "    'max_bin':200,\n",
    "    'lambda_l1':0.1,\n",
    "    'lambda_l2':0.2,\n",
    "    'verbose': 5,\n",
    "\n",
    "    # multitask\n",
    "    'objective':'custom',           \n",
    "    'num_labels':num_labels, \n",
    "    'tree_learner': 'serial2',\n",
    "    'num_threads':4}  "
   ]
  },
  {
   "cell_type": "code",
   "execution_count": 21,
   "id": "d1b3e778",
   "metadata": {},
   "outputs": [],
   "source": [
    "import copy\n",
    "def sigmoid(x2):\n",
    "    \"\"\"\n",
    "    sigmoid函数\n",
    "    :param x2:\n",
    "    :return:\n",
    "    \"\"\"\n",
    "    x = copy.deepcopy(x2)\n",
    "    if type(x) is int:\n",
    "        x = 20.0 if x > 20.0 else x\n",
    "        x = -100.0 if x < -100.0 else x\n",
    "    else:\n",
    "        # 避免下溢\n",
    "        x[x > 20.0] = 20.0\n",
    "        # 避免上溢\n",
    "        x[x < -100.0] = -100.0\n",
    "    return 1 / (1 + np.exp(-x))"
   ]
  },
  {
   "cell_type": "markdown",
   "id": "90ca9f33",
   "metadata": {},
   "source": [
    "y1使用mse做损失函数，y2使用交叉熵做损失函数，下面的times表示俩损失函数的权重比值"
   ]
  },
  {
   "cell_type": "code",
   "execution_count": 22,
   "id": "d0ca32da",
   "metadata": {},
   "outputs": [],
   "source": [
    "times=10\n",
    "def object_func(preds, train_data, ep = 0):\n",
    "    labels = train_data.get_label()\n",
    "    labels2 = labels.reshape((num_labels,-1)).transpose()    \n",
    "    preds2 = preds.reshape((num_labels,-1)).transpose()\n",
    "    \n",
    "    #regression\n",
    "    grad_regress=preds2[:,0]-labels2[:,0]\n",
    "    hess_regress=grad_regress*0+1\n",
    "    #binary\n",
    "    grad_binary=sigmoid(preds2[:,1])-labels2[:,1]\n",
    "    hess_binary=sigmoid(preds2[:,1])*(1-sigmoid(preds2[:,1]))\n",
    "    \n",
    "    #split\n",
    "    grad=grad_regress+times*grad_binary\n",
    "    hess=hess_regress+times*hess_binary\n",
    "    \n",
    "    #value \n",
    "    grad2=np.concatenate([grad_regress,grad_binary])\n",
    "    hess2=np.concatenate([hess_regress,hess_binary])\n",
    "    \n",
    "    return grad, hess, grad2, hess2   \n",
    "\n",
    "def eval_func(preds, train_data):\n",
    "    labels = train_data.get_label()\n",
    "    labels2 = labels.reshape((num_labels,-1)).transpose()\n",
    "    preds2 = preds.reshape((num_labels,-1)).transpose()\n",
    "    #regression score\n",
    "    regress_score = np.mean((labels2[:,0]-preds2[:,0]) ** 2)**0.5\n",
    "    #binary score\n",
    "    binary_score=roc_auc_score(labels2[:,1],sigmoid(preds2[:,1]))\n",
    "    total_score=regress_score+times*binary_score\n",
    "    return 'score', total_score, False"
   ]
  },
  {
   "cell_type": "code",
   "execution_count": 23,
   "id": "6a7ae3b6",
   "metadata": {},
   "outputs": [
    {
     "name": "stdout",
     "output_type": "stream",
     "text": [
      "[10]\ttraining's score: 148131\tvalid_1's score: 143248\n"
     ]
    },
    {
     "name": "stderr",
     "output_type": "stream",
     "text": [
      "/home/alei/anaconda3/lib/python3.8/site-packages/lightgbmmt/basic.py:1297: UserWarning: Using categorical_feature in Dataset.\n",
      "  warnings.warn('Using categorical_feature in Dataset.')\n"
     ]
    },
    {
     "name": "stdout",
     "output_type": "stream",
     "text": [
      "[20]\ttraining's score: 111177\tvalid_1's score: 106804\n",
      "[30]\ttraining's score: 84224.4\tvalid_1's score: 80491\n",
      "[40]\ttraining's score: 64618.9\tvalid_1's score: 61705.5\n",
      "[50]\ttraining's score: 50545.1\tvalid_1's score: 48339.6\n",
      "[60]\ttraining's score: 40474.6\tvalid_1's score: 39381.7\n",
      "[70]\ttraining's score: 33415\tvalid_1's score: 33870.7\n",
      "[80]\ttraining's score: 28494\tvalid_1's score: 30526.1\n",
      "[90]\ttraining's score: 25193.9\tvalid_1's score: 28606\n",
      "[100]\ttraining's score: 23045.7\tvalid_1's score: 27667.7\n",
      "[110]\ttraining's score: 21557.3\tvalid_1's score: 27222.8\n",
      "[120]\ttraining's score: 20439.3\tvalid_1's score: 26904.9\n",
      "[130]\ttraining's score: 19641.6\tvalid_1's score: 26736.5\n",
      "[140]\ttraining's score: 19072.9\tvalid_1's score: 26695.7\n",
      "[150]\ttraining's score: 18536.1\tvalid_1's score: 26637.3\n",
      "[160]\ttraining's score: 18027.8\tvalid_1's score: 26590.2\n",
      "[170]\ttraining's score: 17660.1\tvalid_1's score: 26584.7\n",
      "[180]\ttraining's score: 17230.3\tvalid_1's score: 26564.3\n",
      "[190]\ttraining's score: 16896.8\tvalid_1's score: 26567.1\n",
      "[200]\ttraining's score: 16543.7\tvalid_1's score: 26604.7\n"
     ]
    }
   ],
   "source": [
    "trn_data=lgb.Dataset(trn_x,label=trn_y.values,categorical_feature=cate_cols)\n",
    "val_data=lgb.Dataset(val_x,label=val_y.values,categorical_feature=cate_cols)\n",
    "clf=lgb.train(param,trn_data,verbose_eval=10,fobj=object_func,feval=eval_func,\n",
    "                num_boost_round=200,valid_sets=[trn_data,val_data])\n",
    "clf.set_num_labels(num_labels)"
   ]
  },
  {
   "cell_type": "code",
   "execution_count": 24,
   "id": "6ddfacae",
   "metadata": {},
   "outputs": [
    {
     "name": "stdout",
     "output_type": "stream",
     "text": [
      "inner_predict 520\n"
     ]
    },
    {
     "data": {
      "text/plain": [
       "1984.9600648325397"
      ]
     },
     "execution_count": 24,
     "metadata": {},
     "output_type": "execute_result"
    }
   ],
   "source": [
    "rmse(clf.predict(val_x)[:,0],val_y[\"y1\"])"
   ]
  },
  {
   "cell_type": "code",
   "execution_count": 25,
   "id": "ac7a61a3",
   "metadata": {},
   "outputs": [
    {
     "name": "stdout",
     "output_type": "stream",
     "text": [
      "inner_predict 520\n"
     ]
    },
    {
     "data": {
      "text/plain": [
       "0.9333688699360342"
      ]
     },
     "execution_count": 25,
     "metadata": {},
     "output_type": "execute_result"
    }
   ],
   "source": [
    "roc_auc_score(val_y[\"y2\"],sigmoid(clf.predict(val_x)[:,1]))"
   ]
  },
  {
   "cell_type": "markdown",
   "id": "6cad8942",
   "metadata": {},
   "source": [
    "可以发现，引入y2可以起到优化y1的作用"
   ]
  },
  {
   "cell_type": "code",
   "execution_count": null,
   "id": "cd941773",
   "metadata": {},
   "outputs": [],
   "source": []
  }
 ],
 "metadata": {
  "kernelspec": {
   "display_name": "Python 3",
   "language": "python",
   "name": "python3"
  },
  "language_info": {
   "codemirror_mode": {
    "name": "ipython",
    "version": 3
   },
   "file_extension": ".py",
   "mimetype": "text/x-python",
   "name": "python",
   "nbconvert_exporter": "python",
   "pygments_lexer": "ipython3",
   "version": "3.8.8"
  }
 },
 "nbformat": 4,
 "nbformat_minor": 5
}
